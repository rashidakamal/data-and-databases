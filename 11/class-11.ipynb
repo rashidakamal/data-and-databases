{
 "cells": [
  {
   "cell_type": "markdown",
   "metadata": {},
   "source": [
    "# Class 11 - SQL cont'd, Web Applications"
   ]
  },
  {
   "cell_type": "markdown",
   "metadata": {},
   "source": [
    "## How to update records in your tables"
   ]
  },
  {
   "cell_type": "markdown",
   "metadata": {},
   "source": [
    "### CRUD operations\n",
    "\n",
    "+ Create: `CREATE`\n",
    "+ Retrieve `SELECT`\n",
    "+ Update: `UPDATE`\n",
    "+ Delete: `DELETE`\n",
    "\n",
    "**SAMPLE STRUCTURE:** \n",
    "        \n",
    "        `UPDATE table SET col1 = val1 col2 = val2 WHERE expression`\n",
    "\n",
    "Other examples:\n",
    "\n",
    "+ `UPDATE restaurant SET price = 16 WHERE price = 2;`\n",
    "+ `UPDATE restaurant SET name = \"Goofy Joe And The Sandwiches\" WHERE id = 151;`"
   ]
  },
  {
   "cell_type": "markdown",
   "metadata": {},
   "source": [
    "## Web Applications\n",
    "\n",
    "### **What they can do:** \n",
    "+ Fetch data from a database and returning it to the web browser\n",
    "+ Take in user data and manipulate it in some way\n",
    "+ Other cool stuff! \n",
    "\n",
    "We want to understand the basics of web applications... but not become web developers! \n",
    "\n",
    "**Very rough cut of what web applications kinda do**: there's a computer program hanging out on a server and when a browser makes a request to the program, the server sends back the program's response! \n",
    "\n",
    "We're **NOT** writing the software that makes requests; we're writing the software that sends responses. \n",
    "\n",
    "Our server and browser need to use the same language: **HTTP (HyperText Transfer Protocol)**.  \n",
    "\n",
    "### Writing a web request \"by hand\"\n",
    "\n",
    "**When browsers send requests:**\n",
    "\n",
    "+ Opens up a internet connection\n",
    "+ Starts talking in HTTP!\n",
    "\n",
    "\n",
    "+ Sample of what that looks like:\n",
    "\n",
    "    + `nc www.columbia.edu 80`: net cat -- we usually use port 80; it'll look like nothing happened; this line connects to www.columbia.edu\n",
    "    + `GET / HTTP/1.1` : this is an HTTP request; `GET` is the HTTP method; the `/` is the path to what we want to retrieve; `HTTP/1.1` is part of the htt protocol. \n",
    "    + `HOST: www.columbia.edu`: this is a header we need to pass through with our request;\n",
    "    + The server responses with the \"HTTP response\" -- it includes a response code `200` when things have gone well. Another: `404` for not found. \n",
    "    + In the response, we got a lot of headers: date, server, content-type, etc. \n",
    "    + Actual content of the response -- the html at www.columbia.edu\n",
    "    \n",
    "\n",
    "There are the requests that drive the web! A **browser** is basically an elaborate software for writing and interpreting HTTP requests and responses (and then renders the html). \n",
    "\n",
    "Under **Developer Tools** on your brower, check out the **Network** tab; this tracks and shows you all the requests your browser is sending. "
   ]
  },
  {
   "cell_type": "markdown",
   "metadata": {},
   "source": [
    "### Our goal \n",
    "We need to write software that can parse HTTP requests and correctly format an HTTP response to send back. Built in library called \"sockets\" allows us to accept web connections in python. But that's a fair amount of work. We're going to use a **web framework** (a python library that has the software to parse HTTP requests for you). We would write a function in our code that is run whenever a web browser makes a request to our computer. \n",
    "\n",
    "Sample web frameworks: Django (python), node.js (javascript), Flask (python), Jekyll (ruby), Ruby on Rails\n",
    "\n",
    "**Flask** is pretty nimble, so that's what we're going to use. "
   ]
  },
  {
   "cell_type": "markdown",
   "metadata": {},
   "source": [
    "## Writing web applications"
   ]
  },
  {
   "cell_type": "code",
   "execution_count": 1,
   "metadata": {
    "collapsed": false
   },
   "outputs": [
    {
     "name": "stdout",
     "output_type": "stream",
     "text": [
      "Collecting Flask\n",
      "  Downloading Flask-0.11.1-py2.py3-none-any.whl (80kB)\n",
      "\u001b[K    100% |████████████████████████████████| 81kB 3.1MB/s \n",
      "\u001b[?25hCollecting itsdangerous>=0.21 (from Flask)\n",
      "Collecting Werkzeug>=0.7 (from Flask)\n",
      "  Using cached Werkzeug-0.11.10-py2.py3-none-any.whl\n",
      "Collecting Jinja2>=2.4 (from Flask)\n",
      "  Using cached Jinja2-2.8-py2.py3-none-any.whl\n",
      "Collecting click>=2.0 (from Flask)\n",
      "  Downloading click-6.6.tar.gz (283kB)\n",
      "\u001b[K    100% |████████████████████████████████| 286kB 2.2MB/s \n",
      "\u001b[?25hCollecting MarkupSafe (from Jinja2>=2.4->Flask)\n",
      "Building wheels for collected packages: click\n",
      "  Running setup.py bdist_wheel for click ... \u001b[?25l-\b \b\\\b \bdone\n",
      "\u001b[?25h  Stored in directory: /Users/rashida/Library/Caches/pip/wheels/b0/6d/8c/cf5ca1146e48bc7914748bfb1dbf3a40a440b8b4f4f0d952dd\n",
      "Successfully built click\n",
      "Installing collected packages: itsdangerous, Werkzeug, MarkupSafe, Jinja2, click, Flask\n",
      "Successfully installed Flask-0.11.1 Jinja2-2.8 MarkupSafe-0.23 Werkzeug-0.11.10 click-6.6 itsdangerous-0.24\n"
     ]
    }
   ],
   "source": [
    "!pip3 install Flask"
   ]
  },
  {
   "cell_type": "markdown",
   "metadata": {},
   "source": [
    "Usually, we'd write standalone python files (.py files). In class we wrote a very simple flask app in a standalone file called `Hello.py`:"
   ]
  },
  {
   "cell_type": "code",
   "execution_count": null,
   "metadata": {
    "collapsed": true
   },
   "outputs": [],
   "source": [
    "from flask import Flask\n",
    "app = Flask(__name__)\n",
    "\n",
    "@app.route(\"/hello\")\n",
    "def hello():\n",
    "    return \"Hello, world\"\n",
    "\n",
    "app.run()"
   ]
  },
  {
   "cell_type": "code",
   "execution_count": null,
   "metadata": {
    "collapsed": true
   },
   "outputs": [],
   "source": [
    "# Run our standalone file:\n",
    "!python hello.py\n",
    "# Once we run that program, nothing happens! It's literally just sitting there waiting on a browswer to make requests. "
   ]
  },
  {
   "cell_type": "markdown",
   "metadata": {},
   "source": [
    "Go to a web browser and put in this request: http://127.0.0.1:5000/hello. You should see \"Hello, world\" there. \n",
    "\n",
    "    "
   ]
  },
  {
   "cell_type": "markdown",
   "metadata": {},
   "source": [
    "### Error messages you may have encountered:\n",
    "\n",
    "+ Our application is set to only respond to requests made to a particular path! http://127.0.0.1:5000/hello. What will not work:  http://127.0.0.1:5000/ (because we didn't set it up to handle `/`, just `hello`. \n",
    "    + Flask has default errors when a browser tries to request a path it doesn't have something for. \n",
    "    \n",
    "    \n",
    "+ If you saw the \"Address already in use\" message, you probably run our sample Flask app code in Jupyter notebook AND Terminal/Babun. But we can only run it in one place. Can't start two applications that are servers on the same port at the same time! \n",
    "    + You could change the port by adjusting our code -- `app.run(port=5001)`\n",
    "    + If you did start a Flask application from your notebook and you want to stop it, just interrupt the kernel (`Cmd-I`). As soon as it changes from an asterisk to a number, you'll know that it has stopped.\n",
    "    + Use Ctrl-C to stop the application from Terminal (in the window where it is running). "
   ]
  },
  {
   "cell_type": "markdown",
   "metadata": {},
   "source": [
    "For the MOST part, you'd run applications from the command line. We're just going to run the Flask application in our notebooks -- only for the convenience of notes/teaching. **IN ACTUAL USAGE**, you wouldn't write the application in your notebook; you'd write a .py file that you could run from a server (just as we ran a scraper on our Digital Ocean droplets for Foundation). "
   ]
  },
  {
   "cell_type": "code",
   "execution_count": null,
   "metadata": {
    "collapsed": true
   },
   "outputs": [],
   "source": [
    "# localhost/ the ip address below refers to your computer \n",
    "localhost = 127.0.0.1"
   ]
  },
  {
   "cell_type": "code",
   "execution_count": null,
   "metadata": {
    "collapsed": true
   },
   "outputs": [],
   "source": [
    "# curl goes to the URL, fetches the contents of that URL\n",
    "# This will show us the results of our web request on the command line (rather than on the web browser)\n",
    "!curl -s http://localhost:5000/hello"
   ]
  },
  {
   "cell_type": "code",
   "execution_count": 5,
   "metadata": {
    "collapsed": false
   },
   "outputs": [],
   "source": [
    "# Now our application has multiple paths/requests it can handle. It returns different strings depending on which \n",
    "# path you visit/request from. \n",
    "\n",
    "from flask import Flask\n",
    "app = Flask(__name__) # `app` is object that represents our web application\n",
    "# Python interprets the double underscore'd thing as the name of your program. \n",
    "# Evaluates to a unique value for your particular program.  \n",
    "\n",
    "@app.route(\"/blah\") # Whenever some accesses this path/this request is made, run the function that directly follows. \n",
    "def hello(): # This is the functionality of our program! This is the body of what it does. \n",
    "    return \"Hello, world\"\n",
    "\n",
    "@app.route(\"/hello\")\n",
    "def fun_response_yay():\n",
    "    return \"you went to the path /hello! congratulations\"\n",
    "\n",
    "@app.route(\"/\") # route resource or index resource\n",
    "def welcome():\n",
    "    return \"Welcome to our Example Server!\"\n",
    "\n",
    "app.run() # causes your application to start listening for those HTTP requests. \n",
    "\n",
    "# The names of the function do not map to the paths -- that is arbitrary. "
   ]
  },
  {
   "cell_type": "markdown",
   "metadata": {},
   "source": [
    "The `@` is called a decorator -- a decorator is a function that takes another function as a parameter. We're just going to treat:\n",
    "    \n",
    "        @app.route(\"/blah\")\n",
    "        def hello():\n",
    "            return \"Hello, world\"\n",
    "            \n",
    "as a set bit of function. \n",
    "\n",
    "**Flask applications: for every path, there's a function that should be executed for that path.** \n"
   ]
  },
  {
   "cell_type": "markdown",
   "metadata": {},
   "source": [
    "Aside: everything beyond the `?` in a URL is called the **query string**. It's a way of passing additional information with our HTTP request. **So how do we write a Flask application that responds different depending on what is passed in the query string?**"
   ]
  },
  {
   "cell_type": "markdown",
   "metadata": {},
   "source": [
    "## The query string\n",
    "\n",
    "We want to write an app that works like this: \n",
    "\n",
    "        request: curl -s http://localhost:5000/reverse?word=mammoth\n",
    "        response: htommam\n",
    "        \n",
    "### The functionality of our program"
   ]
  },
  {
   "cell_type": "code",
   "execution_count": 7,
   "metadata": {
    "collapsed": false
   },
   "outputs": [
    {
     "data": {
      "text/plain": [
       "'htommam'"
      ]
     },
     "execution_count": 7,
     "metadata": {},
     "output_type": "execute_result"
    }
   ],
   "source": [
    "''.join(reversed(\"mammoth\"))"
   ]
  },
  {
   "cell_type": "code",
   "execution_count": 8,
   "metadata": {
    "collapsed": false
   },
   "outputs": [
    {
     "data": {
      "text/plain": [
       "['h', 't', 'o', 'm', 'm', 'a', 'm']"
      ]
     },
     "execution_count": 8,
     "metadata": {},
     "output_type": "execute_result"
    }
   ],
   "source": [
    "list(reversed(\"mammoth\"))"
   ]
  },
  {
   "cell_type": "code",
   "execution_count": 10,
   "metadata": {
    "collapsed": false
   },
   "outputs": [
    {
     "data": {
      "text/plain": [
       "'htommam'"
      ]
     },
     "execution_count": 10,
     "metadata": {},
     "output_type": "execute_result"
    }
   ],
   "source": [
    "''.join(list(reversed(\"mammoth\")))"
   ]
  },
  {
   "cell_type": "code",
   "execution_count": 11,
   "metadata": {
    "collapsed": false
   },
   "outputs": [
    {
     "data": {
      "text/plain": [
       "'htommam'"
      ]
     },
     "execution_count": 11,
     "metadata": {},
     "output_type": "execute_result"
    }
   ],
   "source": [
    "''.join(reversed(\"mammoth\"))"
   ]
  },
  {
   "cell_type": "code",
   "execution_count": 14,
   "metadata": {
    "collapsed": true
   },
   "outputs": [],
   "source": [
    "from flask import Flask, request \n",
    "# request is a special object that Flask library provides to you; allows you to access the query string\n",
    "\n",
    "app = Flask(__name__) \n",
    "\n",
    "@app.route(\"/reverse\") \n",
    "def reverser():\n",
    "    \n",
    "    # `request.args` acts like a dictionary; we can use this to get what has been passed through the query string\n",
    "    word = request.args['word'] # returns whatever is in the key-value pair for `word`\n",
    "    word_in_reverse = ''.join(reversed(word))\n",
    "    return word_in_reverse\n",
    "\n",
    "app.run() \n",
    "\n",
    "# Test whether this works by running `curl -s http://localhost:5000/reverse?word=dessert` in command line! "
   ]
  },
  {
   "cell_type": "markdown",
   "metadata": {},
   "source": [
    "Given this application, think about how an web API might work! Think about how we structured queries to APIs like NYTimes and Spotify -- we passed a URL and received a response (not unlike what we're doing here). "
   ]
  },
  {
   "cell_type": "markdown",
   "metadata": {},
   "source": [
    "### What if we don't pass it a query string? \n",
    "\n",
    "Sample request: `curl -s http://localhost:5000/reverse`\n",
    "\n",
    "**This throws us an error:** Bad Request. The browser (or proxy) sent a request that this server could not understand.\n",
    "\n",
    "We'll need to adjust our application so that it can account for such requests. \n",
    "\n",
    "### `.get()` behavior"
   ]
  },
  {
   "cell_type": "code",
   "execution_count": 15,
   "metadata": {
    "collapsed": true
   },
   "outputs": [],
   "source": [
    "x = {'oranges': 6, 'apples': 4, 'durians': 2}"
   ]
  },
  {
   "cell_type": "code",
   "execution_count": 16,
   "metadata": {
    "collapsed": true
   },
   "outputs": [],
   "source": [
    "if 'passionfruit' in x:\n",
    "    print(x['passionfruit'])"
   ]
  },
  {
   "cell_type": "code",
   "execution_count": 19,
   "metadata": {
    "collapsed": false
   },
   "outputs": [
    {
     "data": {
      "text/plain": [
       "6"
      ]
     },
     "execution_count": 19,
     "metadata": {},
     "output_type": "execute_result"
    }
   ],
   "source": [
    "# Get the value stored for a key in a dictionary, and if that key does not exist, return a default value of 0\n",
    "x.get('oranges', 0)"
   ]
  },
  {
   "cell_type": "code",
   "execution_count": 17,
   "metadata": {
    "collapsed": false
   },
   "outputs": [
    {
     "data": {
      "text/plain": [
       "0"
      ]
     },
     "execution_count": 17,
     "metadata": {},
     "output_type": "execute_result"
    }
   ],
   "source": [
    "# Get the value stored for a key in a dictionary, and if that key does not exist, return a default value of 0\n",
    "x.get('passionfruit', 0)"
   ]
  },
  {
   "cell_type": "code",
   "execution_count": 18,
   "metadata": {
    "collapsed": true
   },
   "outputs": [],
   "source": [
    "from flask import Flask, request \n",
    "\n",
    "app = Flask(__name__) \n",
    "\n",
    "@app.route(\"/reverse\") \n",
    "def reverser():\n",
    "    \n",
    "    word = request.args.get('word', None) # will get value associated with \"word\" or else, return None (our default)\n",
    "    if word: \n",
    "        word_in_reverse = ''.join(reversed(word))\n",
    "        return word_in_reverse\n",
    "    \n",
    "    else:\n",
    "        return \"you did not use the API correctly. happens to us all.\"\n",
    "\n",
    "app.run()"
   ]
  },
  {
   "cell_type": "markdown",
   "metadata": {},
   "source": [
    "### A more interesting hello world\n",
    "\n",
    "    request: http://localhost:5000/greeting?to_greet=galaxy\n",
    "    reponse: Hello, galaxy! \n",
    "        \n",
    "additionally: choose a random greeting.\n",
    "\n",
    "    [\"hello\", \"hi\", \"salutations\", \"howdy\", \"'sup\", \"hey\"]"
   ]
  },
  {
   "cell_type": "code",
   "execution_count": 20,
   "metadata": {
    "collapsed": true
   },
   "outputs": [],
   "source": [
    "import random"
   ]
  },
  {
   "cell_type": "code",
   "execution_count": 21,
   "metadata": {
    "collapsed": false
   },
   "outputs": [
    {
     "data": {
      "text/plain": [
       "6"
      ]
     },
     "execution_count": 21,
     "metadata": {},
     "output_type": "execute_result"
    }
   ],
   "source": [
    "# This is like rolling a 6-sided die\n",
    "random.randrange(1,7)"
   ]
  },
  {
   "cell_type": "code",
   "execution_count": 22,
   "metadata": {
    "collapsed": false
   },
   "outputs": [
    {
     "data": {
      "text/plain": [
       "0.020730306387093944"
      ]
     },
     "execution_count": 22,
     "metadata": {},
     "output_type": "execute_result"
    }
   ],
   "source": [
    "# will produce random floating point data\n",
    "random.uniform(0,1)"
   ]
  },
  {
   "cell_type": "code",
   "execution_count": 23,
   "metadata": {
    "collapsed": false
   },
   "outputs": [
    {
     "data": {
      "text/plain": [
       "'hey'"
      ]
     },
     "execution_count": 23,
     "metadata": {},
     "output_type": "execute_result"
    }
   ],
   "source": [
    "random.choice([\"hello\", \"hi\", \"salutations\", \"howdy\", \"'sup\", \"hey\"])"
   ]
  },
  {
   "cell_type": "code",
   "execution_count": 26,
   "metadata": {
    "collapsed": true
   },
   "outputs": [],
   "source": [
    "import random \n",
    "from flask import Flask, request \n",
    "\n",
    "app = Flask(__name__) \n",
    "\n",
    "# we can do our usual python code stuff here! \n",
    "# just as below! \n",
    "\n",
    "greets = [\"hello\", \"hi\", \"salutations\", \"howdy\", \"'sup\", \"hey\"]\n",
    "punc = [\"!\", \"!!\", \"?\", \".\", \"...\"]\n",
    "\n",
    "@app.route(\"/greeting\") \n",
    "def greet_generator():\n",
    "    \n",
    "    thing = request.args['to_greet']\n",
    "    \n",
    "    greeting = random.choice(greets) + \" \" + thing + random.choice(punc)\n",
    "    return greeting\n",
    "    \n",
    "\n",
    "app.run()"
   ]
  },
  {
   "cell_type": "markdown",
   "metadata": {},
   "source": [
    "### Adding HTML formatting to our response"
   ]
  },
  {
   "cell_type": "code",
   "execution_count": 29,
   "metadata": {
    "collapsed": true
   },
   "outputs": [],
   "source": [
    "import random \n",
    "from flask import Flask, request \n",
    "\n",
    "app = Flask(__name__) \n",
    "\n",
    "# we can do our usual python code stuff here! \n",
    "# just as below! \n",
    "\n",
    "greets = [\"hello\", \"hi\", \"salutations\", \"howdy\", \"'sup\", \"hey\"]\n",
    "punc = [\"!\", \"!!\", \"?\", \".\", \"...\"]\n",
    "\n",
    "@app.route(\"/greeting\") \n",
    "def greet_generator():\n",
    "    \n",
    "    thing = request.args['to_greet']\n",
    "    \n",
    "    greeting = random.choice(greets) + \" \" + thing + random.choice(punc)\n",
    "    return \"<h1>WELCOME TO GREET-O-TRON</h1>\" + \"<tt>\" + greeting + \"</tt>\"\n",
    "    \n",
    "\n",
    "app.run()"
   ]
  },
  {
   "cell_type": "markdown",
   "metadata": {},
   "source": [
    "Not all web applications return html. For example, the NYTimes API returns a json object. You can return different things! \n",
    "\n",
    "**On Thursday, we'll talk about how to use HTML to format responses and how to use HTML to have user submit a form (rather than editing the query string). We'll also add a databases component to our web applications.**"
   ]
  },
  {
   "cell_type": "code",
   "execution_count": null,
   "metadata": {
    "collapsed": true
   },
   "outputs": [],
   "source": []
  }
 ],
 "metadata": {
  "kernelspec": {
   "display_name": "Python 3",
   "language": "python",
   "name": "python3"
  },
  "language_info": {
   "codemirror_mode": {
    "name": "ipython",
    "version": 3
   },
   "file_extension": ".py",
   "mimetype": "text/x-python",
   "name": "python",
   "nbconvert_exporter": "python",
   "pygments_lexer": "ipython3",
   "version": "3.5.0"
  }
 },
 "nbformat": 4,
 "nbformat_minor": 0
}
