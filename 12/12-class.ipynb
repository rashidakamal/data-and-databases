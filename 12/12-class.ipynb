{
 "cells": [
  {
   "cell_type": "markdown",
   "metadata": {},
   "source": [
    "# Class 12 - Web Applications, cont'd\n",
    "\n",
    "We started to add some HTML to our web applications in our last class!\n",
    "\n",
    "We want to think about: how do we make our web application produce a webpage? We see one possibility below, where we are putting HTML directly into our Flask program. A few issues with this: it's a bit messy, especially if you want to edit the HTML later. "
   ]
  },
  {
   "cell_type": "code",
   "execution_count": 1,
   "metadata": {
    "collapsed": true
   },
   "outputs": [],
   "source": [
    "import random \n",
    "from flask import Flask, request \n",
    "\n",
    "app = Flask(__name__) \n",
    "\n",
    "# we can do our usual python code stuff here! \n",
    "# just as below! \n",
    "\n",
    "greets = [\"hello\", \"hi\", \"salutations\", \"howdy\", \"'sup\", \"hey\"]\n",
    "punc = [\"!\", \"!!\", \"?\", \".\", \"...\"]\n",
    "\n",
    "@app.route(\"/greeting\") \n",
    "def greet_generator():\n",
    "    \n",
    "    thing = request.args['to_greet']\n",
    "    \n",
    "    greeting = random.choice(greets) + \" \" + thing + random.choice(punc)\n",
    "    return \"<h1>WELCOME TO GREET-O-TRON</h1>\" + \"<tt>\" + greeting + \"</tt>\"\n",
    "    \n",
    "\n",
    "app.run()"
   ]
  },
  {
   "cell_type": "markdown",
   "metadata": {},
   "source": [
    "## Templates!"
   ]
  },
  {
   "cell_type": "markdown",
   "metadata": {},
   "source": [
    "We can also use Flask templates to produce our webpages! Allison has posted a few templates on the [Lede Program Github](https://github.com/ledeprogram/data-and-databases/tree/master/templates). Flask templates use an Python library called Jinja2 (it's a templating language). \n",
    "\n",
    "In Flask, we use the `render_template()` function to tell it which HTML page Flask should try to build and send it the data that it needs to fill in the template. \n",
    "\n",
    "In the code below, you can see that we are sending the data contained in our `x` and `y` variables to the html page `greeting.html`. Note that any template HTML page that you want your Flask application to know about MUST be located in a folder called \"Templates\" in the same directory/folder as your Flask application code. "
   ]
  },
  {
   "cell_type": "code",
   "execution_count": 2,
   "metadata": {
    "collapsed": true
   },
   "outputs": [],
   "source": [
    "import random\n",
    "from flask import Flask, request, render_template\n",
    "app = Flask(__name__)\n",
    "\n",
    "greets = [\"Hello\", \"Hi\", \"Salutations\", \"Greetings\", \"Hey\", \"Sup\"]\n",
    "places = [\"region\", \"continent\", \"world\", \"solar system\", \"galaxy\", \"local cluster\", \"galaxy\"]\n",
    "\n",
    "@app.route('/greeting')\n",
    "def greeting_generator():\n",
    "    x = random.choice(greets)\n",
    "    y = random.choice(places)\n",
    "    return render_template(\"greeting.html\", greet=x, place=y)\n",
    "    # it's going to fill in the blanks of the template (render) and \n",
    "    # where ever there is a blank for the variable greet it's going to plug in our x variable\n",
    "    # where ever there is a blank for the variable place (in the template), it will plug in\n",
    "    # our y variable.\n",
    "    # In our greeting.html template, there is syntax that looks like: {{ greet }}\n",
    "    # That's where Flask will plug in x! \n",
    "\n",
    "if __name__ == '__main__': # app gets run when you run it from the command line\n",
    "                           # for our purposes, you can actually delete this line.\n",
    "    app.run()"
   ]
  },
  {
   "cell_type": "markdown",
   "metadata": {},
   "source": [
    "The advantage of this is that front-end developers only need to deal with HTML code (rather than diving into the Python app). This is how web development works! "
   ]
  },
  {
   "cell_type": "markdown",
   "metadata": {},
   "source": [
    "## Adding forms for user input\n",
    "\n",
    "Let's say we want to build a webpage that takes in text from the user and then \"simplifies\" that text by giving back only words that are less than 5 letters long. \n",
    "\n",
    "This is what our finished product could look like:"
   ]
  },
  {
   "cell_type": "code",
   "execution_count": 4,
   "metadata": {
    "collapsed": true
   },
   "outputs": [],
   "source": [
    "from flask import Flask, request, render_template\n",
    "\n",
    "app = Flask(__name__)\n",
    "\n",
    "# The form itself is available at the root\n",
    "@app.route('/')\n",
    "def home():\n",
    "    return render_template(\"simplify_home.html\")\n",
    "\n",
    "# When the form is submitted, we are sent to /transformed\n",
    "# Which shows us the results \n",
    "@app.route('/transformed', methods=[\"POST\"])\n",
    "def transformed():\n",
    "    text = request.form['text']\n",
    "    words = [w for w in text.split() if len(w) <= 5]\n",
    "    return render_template(\"simplify_transformed.html\", output=' '.join(words))\n",
    "\n",
    "app.run()"
   ]
  },
  {
   "cell_type": "markdown",
   "metadata": {},
   "source": [
    "...but first, a little bit about HTML forms\n",
    "\n",
    "### HTML code for forms\n",
    "\n",
    "In order for a form to be displayed to a user, we added the following code to our `simplify_transformed.html` page.\n",
    "\n",
    "        <form action=\"/transformed\" method=\"POST\">\n",
    "        <textarea name=\"text\" rows=\"24\" cols=\"66\"></textarea><br>\n",
    "        <input type=\"submit\" value=\"Submit!\">\n",
    "        \n",
    "+ `<form action=\"/>` tells it to access `/transformed` next (it's like a complicated hyperlink)\n",
    "+ the `method` attribute says which HTTP method to use. (others: get, post, delete, post, options, head)\n",
    "+ `<textarea>` Creates a box on our webpage for users to submit text. \n",
    "+ `<input type=\"submit\">` is a \"Submit!\" button\n",
    "\n",
    "This form allows the user to submit an HTTP request to get transformed text back! "
   ]
  },
  {
   "cell_type": "markdown",
   "metadata": {},
   "source": [
    "## Step-by-step: building our app\n",
    "\n",
    "This app doesn't really do much, but sets up which paths we're going to be working on. \n",
    "\n",
    "### Step 1"
   ]
  },
  {
   "cell_type": "code",
   "execution_count": null,
   "metadata": {
    "collapsed": true
   },
   "outputs": [],
   "source": [
    "from flask import Flask, request, render_template\n",
    "app = Flask(__name__)\n",
    "\n",
    "# this \n",
    "@app.route('/')\n",
    "def display_form():\n",
    "    return 'put form here'\n",
    "\n",
    "@app.route('transformed')\n",
    "def display_transformation():\n",
    "    return 'put transformed text here'\n",
    "    \n",
    "app.run()"
   ]
  },
  {
   "cell_type": "markdown",
   "metadata": {},
   "source": [
    "## Step 2: Using a template"
   ]
  },
  {
   "cell_type": "code",
   "execution_count": 7,
   "metadata": {
    "collapsed": false
   },
   "outputs": [],
   "source": [
    "from flask import Flask, request, render_template\n",
    "app = Flask(__name__)\n",
    "\n",
    "# this \n",
    "@app.route('/')\n",
    "def display_form():\n",
    "    return render_template(\"simplify_home.html\")\n",
    "\n",
    "@app.route('/transformed')\n",
    "def display_transformation():\n",
    "    return 'put transformed text here'\n",
    "\n",
    "app.run()"
   ]
  },
  {
   "cell_type": "markdown",
   "metadata": {},
   "source": [
    "Our web browser takes the data from the form, fashions it into an HTTP request, and then submits that data to our server. But, we haven't told our server how to handle that data!"
   ]
  },
  {
   "cell_type": "code",
   "execution_count": 8,
   "metadata": {
    "collapsed": true
   },
   "outputs": [],
   "source": [
    "from flask import Flask, request, render_template\n",
    "app = Flask(__name__)\n",
    "\n",
    "# this \n",
    "@app.route('/')\n",
    "def display_form():\n",
    "    return render_template(\"simplify_home.html\")\n",
    "\n",
    "@app.route('/transformed', methods=['POST']) # This tells our web browser that it's okay for\n",
    "                                             # for web browsers to use the POST method \n",
    "                                             # We could have sent them a bunch of acceptable\n",
    "                                             # methods. \n",
    "def display_transformation():\n",
    "    # this is how you get parameters from the query string: request.args['to_greet']\n",
    "    \n",
    "    our_text = request.form['text'] # this is how you get parameters from the body! \n",
    "    words = [w for w in our_text.split() if len(w) <= 5]\n",
    "    output_text = ' '.join(words)\n",
    "    \n",
    "    return render_template(\"simplify_transformed.html\", output=output_text)\n",
    "\n",
    "app.run()"
   ]
  },
  {
   "cell_type": "markdown",
   "metadata": {},
   "source": [
    "The web browswer is making an HTTP request, and it sends a body with it (in the POST method).\n",
    "\n",
    "The HTTP request looks something like this (very approximate):\n",
    "\n",
    "```\n",
    "nc localhost 5000\n",
    "POST /transformed HTTP/1.1\n",
    "text = hello\n",
    "```\n",
    "\n",
    "+ `GET` or `POST` : whether or not the query string will be changed when the request is sent\n",
    "+ `GET` changes the query string"
   ]
  },
  {
   "cell_type": "markdown",
   "metadata": {},
   "source": [
    "## Country Information Server\n",
    "\n",
    "How do you use a database inside a Flask application? \n",
    "\n",
    "This is how we want our webserver to behave: \n",
    "\n",
    "    curl http://localhost:5000/countries?lookup_name=France\n",
    "    France, Paris, 6493340"
   ]
  },
  {
   "cell_type": "code",
   "execution_count": 13,
   "metadata": {
    "collapsed": false
   },
   "outputs": [],
   "source": [
    "from flask import Flask, request\n",
    "import pg8000\n",
    "\n",
    "app = Flask(__name__)\n",
    "conn = pg8000.connect(database=\"mondial\")\n",
    "\n",
    "@app.route(\"/countries\")\n",
    "def country_info():\n",
    "    cname = request.args['lookup_name']\n",
    "    \n",
    "    # Step 1. perform a database search\n",
    "    cursor = conn.cursor()\n",
    "    cursor.execute(\"SELECT name, capital, population FROM country WHERE name = %s\", [cname])\n",
    "    response = cursor.fetchone()\n",
    "    \n",
    "    # Step 2. format the results as text (and later as HTML)\n",
    "    output = response[0] + \", \" + response[1] + \", \" + str(response[2])\n",
    "    \n",
    "    # Step 3. return that text \n",
    "    return output \n",
    "\n",
    "\n",
    "app.run()"
   ]
  },
  {
   "cell_type": "code",
   "execution_count": 16,
   "metadata": {
    "collapsed": false
   },
   "outputs": [],
   "source": [
    "from flask import Flask, request\n",
    "import pg8000\n",
    "\n",
    "app = Flask(__name__)\n",
    "conn = pg8000.connect(database=\"mondial\")\n",
    "\n",
    "@app.route(\"/countries\")\n",
    "def country_info():\n",
    "    cname = request.args['lookup_name']\n",
    "    \n",
    "    # Step 1. perform a database search   \n",
    "    cursor = conn.cursor()\n",
    "    cursor.execute(\"SELECT name, capital, population FROM country WHERE name = %s\", [cname])\n",
    "    response = cursor.fetchone()\n",
    "    \n",
    "    # Step 2. format the results as text (and later as HTML)\n",
    "    # Instead of passing back a string, this time we're passing back a dictionary\n",
    "    cinfo={\n",
    "        'name': response[0],\n",
    "        'capital': response[1],\n",
    "        'population': response[2]\n",
    "    }\n",
    "    \n",
    "    # Step 3. return that text \n",
    "#     output = response[0] + \", \" + response[1] + \", \" + str(response[2])\n",
    "    return render_template(\"country_lookup.html\", country=cinfo)\n",
    "\n",
    "\n",
    "app.run()"
   ]
  },
  {
   "cell_type": "code",
   "execution_count": 17,
   "metadata": {
    "collapsed": true
   },
   "outputs": [],
   "source": [
    "# Same code as above, but cleaned up. \n",
    "from flask import Flask, request\n",
    "import pg8000\n",
    "\n",
    "app = Flask(__name__)\n",
    "conn = pg8000.connect(database=\"mondial\")\n",
    "\n",
    "@app.route(\"/countries\")\n",
    "def country_info():\n",
    "    cname = request.args['lookup_name']\n",
    "   \n",
    "    cursor = conn.cursor()\n",
    "    cursor.execute(\"SELECT name, capital, population FROM country WHERE name = %s\", [cname])\n",
    "    response = cursor.fetchone()\n",
    "    \n",
    "    cinfo={\n",
    "        'name': response[0],\n",
    "        'capital': response[1],\n",
    "        'population': response[2]\n",
    "    }\n",
    "    return render_template(\"country_data.html\", country=cinfo)\n",
    "\n",
    "\n",
    "app.run()"
   ]
  },
  {
   "cell_type": "markdown",
   "metadata": {},
   "source": [
    "**Issue:** If user visits \"/countries\" they'll get an error because they're always expecting a lookup_name. "
   ]
  },
  {
   "cell_type": "code",
   "execution_count": 19,
   "metadata": {
    "collapsed": false
   },
   "outputs": [],
   "source": [
    "from flask import Flask, request\n",
    "import pg8000\n",
    "\n",
    "app = Flask(__name__)\n",
    "conn = pg8000.connect(database=\"mondial\")\n",
    "\n",
    "@app.route(\"/countries\")\n",
    "def country_info():\n",
    "    cinfo = None \n",
    "    \n",
    "    # Our solution:\n",
    "    # checks to see if a key exists in our dictionary, if not, returns default value of None\n",
    "    cname = request.args.get('lookup_name', None)\n",
    "    \n",
    "    if cname: # we also make edits to country_data.html to account for the if logic! \n",
    "    \n",
    "        cursor = conn.cursor()\n",
    "        cursor.execute(\"SELECT name, capital, population FROM country WHERE name = %s\", [cname])\n",
    "        response = cursor.fetchone()\n",
    "\n",
    "        cinfo={\n",
    "            'name': response[0],\n",
    "            'capital': response[1],\n",
    "            'population': response[2]\n",
    "        }\n",
    "        \n",
    "    return render_template(\"country_data.html\", country=cinfo)\n",
    "\n",
    "\n",
    "app.run()"
   ]
  },
  {
   "cell_type": "markdown",
   "metadata": {},
   "source": [
    "### How .get() works"
   ]
  },
  {
   "cell_type": "code",
   "execution_count": 21,
   "metadata": {
    "collapsed": false
   },
   "outputs": [
    {
     "data": {
      "text/plain": [
       "1"
      ]
     },
     "execution_count": 21,
     "metadata": {},
     "output_type": "execute_result"
    }
   ],
   "source": [
    "lunch = {\"sandwich\": 1, \"chips\": 1, \"soda\": 2}\n",
    "lunch['sandwich']"
   ]
  },
  {
   "cell_type": "code",
   "execution_count": 22,
   "metadata": {
    "collapsed": false
   },
   "outputs": [
    {
     "data": {
      "text/plain": [
       "0"
      ]
     },
     "execution_count": 22,
     "metadata": {},
     "output_type": "execute_result"
    }
   ],
   "source": [
    "lunch.get(\"brownies\", 0)"
   ]
  },
  {
   "cell_type": "code",
   "execution_count": 23,
   "metadata": {
    "collapsed": false
   },
   "outputs": [
    {
     "data": {
      "text/plain": [
       "1"
      ]
     },
     "execution_count": 23,
     "metadata": {},
     "output_type": "execute_result"
    }
   ],
   "source": [
    "lunch.get(\"chips\", 0)"
   ]
  },
  {
   "cell_type": "markdown",
   "metadata": {},
   "source": [
    "### What if someone sends in an incorrectly spelled country?"
   ]
  },
  {
   "cell_type": "code",
   "execution_count": null,
   "metadata": {
    "collapsed": true
   },
   "outputs": [],
   "source": [
    "from flask import Flask, request\n",
    "import pg8000\n",
    "\n",
    "app = Flask(__name__)\n",
    "conn = pg8000.connect(database=\"mondial\")\n",
    "\n",
    "@app.route(\"/countries\")\n",
    "def country_info():\n",
    "    cinfo = None \n",
    "    \n",
    "    cname = request.args.get('lookup_name', None)\n",
    "    \n",
    "    if cname:\n",
    "    \n",
    "        cursor = conn.cursor()\n",
    "        cursor.execute(\"SELECT name, capital, population FROM country WHERE name = %s\", [cname])\n",
    "        response = cursor.fetchone()\n",
    "        \n",
    "        if response: # this basically ignores the input and displays the input page again\n",
    "\n",
    "            cinfo={\n",
    "                'name': response[0],\n",
    "                'capital': response[1],\n",
    "                'population': response[2]\n",
    "            }\n",
    "        \n",
    "    return render_template(\"country_data.html\", country=cinfo)\n",
    "\n",
    "\n",
    "app.run()"
   ]
  },
  {
   "cell_type": "markdown",
   "metadata": {},
   "source": [
    "What if, instead of making a website for people to use, we wanted to make an API where they could request the countries data. \n",
    "\n",
    "+ **Web applications**: returns HTML, human-readable\n",
    "+ **Web APIs**: returns JSON, intended to be read by computer programs\n",
    "\n",
    "You can have two different views of your data, html (https://www.reddit.com/r/dataisbeautiful/) and json (https://www.reddit.com/r/dataisbeautiful/.json)! "
   ]
  },
  {
   "cell_type": "markdown",
   "metadata": {},
   "source": [
    "## Our web API"
   ]
  },
  {
   "cell_type": "code",
   "execution_count": 24,
   "metadata": {
    "collapsed": true
   },
   "outputs": [],
   "source": [
    "from flask import Flask, request, jsonify\n",
    "import pg8000\n",
    "\n",
    "app = Flask(__name__)\n",
    "conn = pg8000.connect(database=\"mondial\")\n",
    "\n",
    "@app.route(\"/countries\")\n",
    "def country_info():\n",
    "    cinfo = None \n",
    "    \n",
    "    cname = request.args.get('lookup_name', None)\n",
    "    \n",
    "    if cname:\n",
    "    \n",
    "        cursor = conn.cursor()\n",
    "        cursor.execute(\"SELECT name, capital, population FROM country WHERE name = %s\", [cname])\n",
    "        response = cursor.fetchone()\n",
    "        \n",
    "        if response: # this basically ignores the input and displays the input page again\n",
    "\n",
    "            cinfo={\n",
    "                'name': response[0],\n",
    "                'capital': response[1],\n",
    "                'population': int(response[2])\n",
    "            }\n",
    "# Instead of returning HTML, we want this to return JSON\n",
    "# return render_template(\"country_data.html\", country=cinfo)\n",
    "\n",
    "    return jsonify(cinfo)\n",
    "\n",
    "\n",
    "app.run()"
   ]
  },
  {
   "cell_type": "markdown",
   "metadata": {},
   "source": [
    "### API for return data on all the countries (instead of just one)\n",
    "\n",
    "Our desired output:\n",
    "\n",
    "    [ \n",
    "        {\"name\": \"Albania\", \"capital\": \"Tirane\", \"population\": 700000}\n",
    "        {\"name\": \"asdj\", \"capital\": \"asdjjie\", \"population\": 12345}\n",
    "        ...\n",
    "    ]"
   ]
  },
  {
   "cell_type": "code",
   "execution_count": 25,
   "metadata": {
    "collapsed": true
   },
   "outputs": [],
   "source": [
    "from flask import Flask, request, jsonify\n",
    "import pg8000\n",
    "\n",
    "app = Flask(__name__)\n",
    "conn = pg8000.connect(database=\"mondial\")\n",
    "\n",
    "@app.route(\"/countries\")\n",
    "def get_countries():\n",
    "    \n",
    "    cursor = conn.cursor()\n",
    "    cursor.execute(\"SELECT name, capital, population FROM country ORDER BY name\")\n",
    "    \n",
    "    output = []\n",
    "    for item in cursor.fetchall():\n",
    "        output.append({ 'name': item[0], 'capital': item[1], 'population': int(item[2]) })\n",
    "    \n",
    "    return jsonify(output)\n",
    "\n",
    "app.run()"
   ]
  },
  {
   "cell_type": "code",
   "execution_count": 26,
   "metadata": {
    "collapsed": true
   },
   "outputs": [],
   "source": [
    "from flask import Flask, request, jsonify\n",
    "import pg8000\n",
    "\n",
    "app = Flask(__name__)\n",
    "conn = pg8000.connect(database=\"mondial\")\n",
    "\n",
    "@app.route(\"/countries\")\n",
    "def get_countries():\n",
    "    \n",
    "    # We hadded population_gt as an additional parameter so that we can limit our results\n",
    "    # to populations that are above certain number. \n",
    "    # If the user doesn't specify a number, the default is 0. \n",
    "    popgt = request.args.get('population_gt', 0)\n",
    "    cursor = conn.cursor()\n",
    "    cursor.execute(\"\"\"SELECT name, capital, population FROM country\n",
    "                   WHERE population >= %s ORDER BY name\"\"\", [popgt])\n",
    "    \n",
    "    output = []\n",
    "    for item in cursor.fetchall():\n",
    "        output.append({ 'name': item[0], 'capital': item[1], 'population': int(item[2]) })\n",
    "    \n",
    "    return jsonify(output)\n",
    "\n",
    "app.run()"
   ]
  }
 ],
 "metadata": {
  "kernelspec": {
   "display_name": "Python 3",
   "language": "python",
   "name": "python3"
  },
  "language_info": {
   "codemirror_mode": {
    "name": "ipython",
    "version": 3
   },
   "file_extension": ".py",
   "mimetype": "text/x-python",
   "name": "python",
   "nbconvert_exporter": "python",
   "pygments_lexer": "ipython3",
   "version": "3.5.0"
  }
 },
 "nbformat": 4,
 "nbformat_minor": 0
}
