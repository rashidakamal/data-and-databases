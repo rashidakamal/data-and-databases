{
 "cells": [
  {
   "cell_type": "markdown",
   "metadata": {},
   "source": [
    "# Class 14\n",
    "\n",
    "[Twython Documentation](http://twython.readthedocs.io/en/latest/api.html)"
   ]
  },
  {
   "cell_type": "code",
   "execution_count": 1,
   "metadata": {
    "collapsed": true
   },
   "outputs": [],
   "source": [
    "api_key = \"XXXX\"\n",
    "api_secret = \"XXXX\"\n",
    "access_token = \"XXXX\"\n",
    "token_secret = \"XXXX\""
   ]
  },
  {
   "cell_type": "code",
   "execution_count": 2,
   "metadata": {
    "collapsed": true
   },
   "outputs": [],
   "source": [
    "import twython"
   ]
  },
  {
   "cell_type": "code",
   "execution_count": null,
   "metadata": {
    "collapsed": true
   },
   "outputs": [],
   "source": [
    "twitter = twython.Twython(api_key, api_secret, access_token, token_secret)"
   ]
  },
  {
   "cell_type": "markdown",
   "metadata": {},
   "source": [
    "## Posting to Twitter "
   ]
  },
  {
   "cell_type": "code",
   "execution_count": null,
   "metadata": {
    "collapsed": true
   },
   "outputs": [],
   "source": [
    "twitter.update_status(status=\"\")"
   ]
  },
  {
   "cell_type": "markdown",
   "metadata": {},
   "source": [
    "**Our workflow so far:**\n",
    "+ [We created an app](http://apps.twitter.com/)\n",
    "+ Authorized yourself to use that app using the \"create token\" button\n",
    "\n",
    "**Getting access tokens for someone else:**\n",
    "+ Create the app\n",
    "+ Have the other user authorize the application\n",
    "\n",
    "In order to make a Twitter bot, we need to replicate this process! \n",
    "\n",
    "Every twitter account needs to have a unique mobile phone number in order to make apps (which is why it is somewhat easier to start the application in your own account and then authorize another user than just start another account for your bot and start a new application there). \n",
    "\n",
    "Twitter attempts to stop you from making multiple accounts by tracking the cookies in your browser. We circumvent this by using a private window in Safari or an incognito window in Chrome. \n",
    "\n",
    "https://twitter.com/signup (skip the phone input) to create a new account for your Twitter bot. (Remember, we won't be able to just start a new application in that account because we won't have a phone number to associate with it). \n",
    "\n",
    "## Authorizing an app"
   ]
  },
  {
   "cell_type": "markdown",
   "metadata": {},
   "source": [
    "Copy the URL from the output -- go to the window where you are logged in as your bot account, and THEN visit the URL. "
   ]
  },
  {
   "cell_type": "code",
   "execution_count": 4,
   "metadata": {
    "collapsed": false
   },
   "outputs": [
    {
     "name": "stdout",
     "output_type": "stream",
     "text": [
      "Log into Twitter as the user you want to authorize and visit this URL:\n",
      "\thttps://api.twitter.com/oauth/authenticate?oauth_token=6AnX5wAAAAAAv9B5AAABVcXQwtI\n"
     ]
    }
   ],
   "source": [
    "# Application mode \n",
    "twitter = twython.Twython(api_key, api_secret)\n",
    "auth = twitter.get_authentication_tokens()\n",
    "print(\"Log into Twitter as the user you want to authorize and visit this URL:\")\n",
    "print(\"\\t\" + auth['auth_url'])"
   ]
  },
  {
   "cell_type": "code",
   "execution_count": null,
   "metadata": {
    "collapsed": true
   },
   "outputs": [],
   "source": [
    "# We copy the pin number provided when we visit the authorization URL \n",
    "pin = \"XXXX\"\n",
    "\n",
    "twitter = twython.Twython(api_key, api_secret, auth['oauth_token'], auth['oauth_token_secret'])\n",
    "tokens = twitter.get_authorized_tokens(pin)\n",
    "\n",
    "new_access_token = tokens['oauth_token']\n",
    "new_token_secret = tokens['oauth_token_secret']\n",
    "print(\"your access token:\", new_access_token)\n",
    "print(\"your token secret:\", new_token_secret)\n",
    "\n",
    "# these tokens last forever! we can write a new application to post using this twitter bot. \n",
    "# But, if we wanted to post to a different account, we would need to redo this process. "
   ]
  },
  {
   "cell_type": "markdown",
   "metadata": {},
   "source": [
    "Now we're making API requests on behalf of the new bot account (rather than our own personal account)! "
   ]
  },
  {
   "cell_type": "code",
   "execution_count": 6,
   "metadata": {
    "collapsed": true
   },
   "outputs": [],
   "source": [
    "twitter = twython.Twython(api_key, api_secret, new_access_token, new_token_secret)"
   ]
  },
  {
   "cell_type": "code",
   "execution_count": 8,
   "metadata": {
    "collapsed": false,
    "scrolled": true
   },
   "outputs": [
    {
     "data": {
      "text/plain": [
       "{'contributors': None,\n",
       " 'coordinates': None,\n",
       " 'created_at': 'Thu Jul 07 14:50:47 +0000 2016',\n",
       " 'entities': {'hashtags': [], 'symbols': [], 'urls': [], 'user_mentions': []},\n",
       " 'favorite_count': 0,\n",
       " 'favorited': False,\n",
       " 'geo': None,\n",
       " 'id': 751065934643785728,\n",
       " 'id_str': '751065934643785728',\n",
       " 'in_reply_to_screen_name': None,\n",
       " 'in_reply_to_status_id': None,\n",
       " 'in_reply_to_status_id_str': None,\n",
       " 'in_reply_to_user_id': None,\n",
       " 'in_reply_to_user_id_str': None,\n",
       " 'is_quote_status': False,\n",
       " 'lang': 'en',\n",
       " 'place': None,\n",
       " 'retweet_count': 0,\n",
       " 'retweeted': False,\n",
       " 'source': '<a href=\"http://www.columbia.edu/\" rel=\"nofollow\">ledebot</a>',\n",
       " 'text': 'hello!',\n",
       " 'truncated': False,\n",
       " 'user': {'contributors_enabled': False,\n",
       "  'created_at': 'Thu Jul 07 14:34:29 +0000 2016',\n",
       "  'default_profile': True,\n",
       "  'default_profile_image': True,\n",
       "  'description': '',\n",
       "  'entities': {'description': {'urls': []}},\n",
       "  'favourites_count': 0,\n",
       "  'follow_request_sent': False,\n",
       "  'followers_count': 0,\n",
       "  'following': False,\n",
       "  'friends_count': 0,\n",
       "  'geo_enabled': False,\n",
       "  'has_extended_profile': False,\n",
       "  'id': 751061832425668608,\n",
       "  'id_str': '751061832425668608',\n",
       "  'is_translation_enabled': False,\n",
       "  'is_translator': False,\n",
       "  'lang': 'en',\n",
       "  'listed_count': 0,\n",
       "  'location': '',\n",
       "  'name': 'ledetest',\n",
       "  'notifications': False,\n",
       "  'profile_background_color': 'F5F8FA',\n",
       "  'profile_background_image_url': None,\n",
       "  'profile_background_image_url_https': None,\n",
       "  'profile_background_tile': False,\n",
       "  'profile_image_url': 'http://abs.twimg.com/sticky/default_profile_images/default_profile_5_normal.png',\n",
       "  'profile_image_url_https': 'https://abs.twimg.com/sticky/default_profile_images/default_profile_5_normal.png',\n",
       "  'profile_link_color': '2B7BB9',\n",
       "  'profile_sidebar_border_color': 'C0DEED',\n",
       "  'profile_sidebar_fill_color': 'DDEEF6',\n",
       "  'profile_text_color': '333333',\n",
       "  'profile_use_background_image': True,\n",
       "  'protected': False,\n",
       "  'screen_name': 'ledetest',\n",
       "  'statuses_count': 1,\n",
       "  'time_zone': None,\n",
       "  'url': None,\n",
       "  'utc_offset': None,\n",
       "  'verified': False}}"
      ]
     },
     "execution_count": 8,
     "metadata": {},
     "output_type": "execute_result"
    }
   ],
   "source": [
    "twitter.update_status(status=\"hello!\")"
   ]
  },
  {
   "cell_type": "markdown",
   "metadata": {},
   "source": [
    "## Implementing the bot\n",
    "\n",
    "Eventually, we'd want to run out bot as a standalone python script (which can be run as a cronjob). \n",
    "\n",
    "**SAMPLE WORKFLOW**\n",
    "\n",
    "Brainstorm and sketch in Jupyter notebook.\n",
    "\n",
    "Create a standalone pythong scrip: bot.py\n",
    "\n",
    "+ get data\n",
    "+ modify data\n",
    "+ post to twitter\n",
    "\n",
    "Implement a cronjob to run script --> run every 3 hours\n",
    "\n",
    "**TODAY, we want to:**\n",
    "\n",
    "+ get a random lake from MONDIAL database\n",
    "+ compose a sentence based on that lake's data\n",
    "+ post the sentence to twitter"
   ]
  },
  {
   "cell_type": "code",
   "execution_count": 10,
   "metadata": {
    "collapsed": false
   },
   "outputs": [
    {
     "data": {
      "text/plain": [
       "143"
      ]
     },
     "execution_count": 10,
     "metadata": {},
     "output_type": "execute_result"
    }
   ],
   "source": [
    "import pg8000\n",
    "lakes = []\n",
    "\n",
    "conn = pg8000.connect(database=\"mondial\")\n",
    "cursor = conn.cursor()\n",
    "\n",
    "cursor.execute(\"SELECT name, area, depth, elevation, type, river from lake\")\n",
    "for row in cursor.fetchall():\n",
    "    lake = {'name': row[0],\n",
    "           'area': int(row[1]),\n",
    "           'depth': int(row[2]),\n",
    "           'elevation': int(row[3]),\n",
    "           'type': row[4], \n",
    "           'river': row[5]}\n",
    "    lakes.append(lake)\n",
    "\n",
    "len(lakes)"
   ]
  },
  {
   "cell_type": "code",
   "execution_count": null,
   "metadata": {
    "collapsed": true
   },
   "outputs": [],
   "source": [
    "# Saving your data as json so you don't have to rely on your SQL database\n",
    "import json\n",
    "json.dump(lakes, open(\"lakes.json\", \"w\"))"
   ]
  },
  {
   "cell_type": "markdown",
   "metadata": {},
   "source": [
    "### Generate a fact sentence\n",
    "\n",
    "* pick a column from the record \n",
    "* compose a sentence based on that column\n",
    "* from a pre-existing list of templates\n",
    "\n",
    "Templates: \n",
    "* `\"The area of {} is {} square kilometers.\"`\n",
    "* `\"The depth of {} is {} meters.\"`\n",
    "* etc.\n",
    "\n",
    "Process:\n",
    "* randomly select column\n",
    "* if that column is not empty:\n",
    "* ... fill in the template with the lake name and the value for that column. "
   ]
  },
  {
   "cell_type": "code",
   "execution_count": 12,
   "metadata": {
    "collapsed": true
   },
   "outputs": [],
   "source": [
    "sentences = { 'area': 'The area of {} is {} square kilometers.',\n",
    "            'depth': 'The depth of {} is {} meters.',\n",
    "            'elevation': 'The elevation of {} is {} meters.',\n",
    "            'type': 'The type of {} is {}.',\n",
    "            'river': '{} empties into a river named {}.',}"
   ]
  },
  {
   "cell_type": "code",
   "execution_count": 13,
   "metadata": {
    "collapsed": true
   },
   "outputs": [],
   "source": [
    "import random"
   ]
  },
  {
   "cell_type": "code",
   "execution_count": 18,
   "metadata": {
    "collapsed": false
   },
   "outputs": [
    {
     "name": "stdout",
     "output_type": "stream",
     "text": [
      "{'depth': Decimal('4'), 'river': 'Luapula', 'name': 'Lake Bangweulu', 'elevation': Decimal('1140'), 'area': Decimal('10000'), 'type': None}\n",
      "depth\n"
     ]
    },
    {
     "data": {
      "text/plain": [
       "'The depth of Lake Bangweulu is 4 meters.'"
      ]
     },
     "execution_count": 18,
     "metadata": {},
     "output_type": "execute_result"
    }
   ],
   "source": [
    "lake = random.choice(lakes)\n",
    "col = random.choice(list(lake.keys()))\n",
    "\n",
    "print(lake)\n",
    "print(col)\n",
    "\n",
    "sentence_template = sentences[col]\n",
    "output = sentence_template.format(lake['name'], lake[col])\n",
    "output"
   ]
  },
  {
   "cell_type": "code",
   "execution_count": 19,
   "metadata": {
    "collapsed": true
   },
   "outputs": [],
   "source": [
    "# Let's make it a function! \n",
    "\n",
    "def random_lake_sentence(lakes, sentences):\n",
    "    \n",
    "    lake = random.choice(lakes)\n",
    "    col = random.choice(list(lake.keys()))\n",
    "\n",
    "    sentence_template = sentences[col]\n",
    "    output = sentence_template.format(lake['name'], lake[col])\n",
    "    return output"
   ]
  },
  {
   "cell_type": "code",
   "execution_count": 21,
   "metadata": {
    "collapsed": false
   },
   "outputs": [
    {
     "name": "stdout",
     "output_type": "stream",
     "text": [
      "The depth of Saimaa is 85 meters.\n"
     ]
    },
    {
     "ename": "KeyError",
     "evalue": "'name'",
     "output_type": "error",
     "traceback": [
      "\u001b[0;31m---------------------------------------------------------------------------\u001b[0m",
      "\u001b[0;31mKeyError\u001b[0m                                  Traceback (most recent call last)",
      "\u001b[0;32m<ipython-input-21-0216c61fb84e>\u001b[0m in \u001b[0;36m<module>\u001b[0;34m()\u001b[0m\n\u001b[1;32m      1\u001b[0m \u001b[0;32mfor\u001b[0m \u001b[0mi\u001b[0m \u001b[0;32min\u001b[0m \u001b[0mrange\u001b[0m\u001b[0;34m(\u001b[0m\u001b[0;36m10\u001b[0m\u001b[0;34m)\u001b[0m\u001b[0;34m:\u001b[0m\u001b[0;34m\u001b[0m\u001b[0m\n\u001b[0;32m----> 2\u001b[0;31m     \u001b[0mprint\u001b[0m\u001b[0;34m(\u001b[0m\u001b[0mrandom_lake_sentence\u001b[0m\u001b[0;34m(\u001b[0m\u001b[0mlakes\u001b[0m\u001b[0;34m,\u001b[0m \u001b[0msentences\u001b[0m\u001b[0;34m)\u001b[0m\u001b[0;34m)\u001b[0m\u001b[0;34m\u001b[0m\u001b[0m\n\u001b[0m",
      "\u001b[0;32m<ipython-input-19-d3bc8983b5c2>\u001b[0m in \u001b[0;36mrandom_lake_sentence\u001b[0;34m(lakes, sentences)\u001b[0m\n\u001b[1;32m      6\u001b[0m     \u001b[0mcol\u001b[0m \u001b[0;34m=\u001b[0m \u001b[0mrandom\u001b[0m\u001b[0;34m.\u001b[0m\u001b[0mchoice\u001b[0m\u001b[0;34m(\u001b[0m\u001b[0mlist\u001b[0m\u001b[0;34m(\u001b[0m\u001b[0mlake\u001b[0m\u001b[0;34m.\u001b[0m\u001b[0mkeys\u001b[0m\u001b[0;34m(\u001b[0m\u001b[0;34m)\u001b[0m\u001b[0;34m)\u001b[0m\u001b[0;34m)\u001b[0m\u001b[0;34m\u001b[0m\u001b[0m\n\u001b[1;32m      7\u001b[0m \u001b[0;34m\u001b[0m\u001b[0m\n\u001b[0;32m----> 8\u001b[0;31m     \u001b[0msentence_template\u001b[0m \u001b[0;34m=\u001b[0m \u001b[0msentences\u001b[0m\u001b[0;34m[\u001b[0m\u001b[0mcol\u001b[0m\u001b[0;34m]\u001b[0m\u001b[0;34m\u001b[0m\u001b[0m\n\u001b[0m\u001b[1;32m      9\u001b[0m     \u001b[0moutput\u001b[0m \u001b[0;34m=\u001b[0m \u001b[0msentence_template\u001b[0m\u001b[0;34m.\u001b[0m\u001b[0mformat\u001b[0m\u001b[0;34m(\u001b[0m\u001b[0mlake\u001b[0m\u001b[0;34m[\u001b[0m\u001b[0;34m'name'\u001b[0m\u001b[0;34m]\u001b[0m\u001b[0;34m,\u001b[0m \u001b[0mlake\u001b[0m\u001b[0;34m[\u001b[0m\u001b[0mcol\u001b[0m\u001b[0;34m]\u001b[0m\u001b[0;34m)\u001b[0m\u001b[0;34m\u001b[0m\u001b[0m\n\u001b[1;32m     10\u001b[0m     \u001b[0;32mreturn\u001b[0m \u001b[0moutput\u001b[0m\u001b[0;34m\u001b[0m\u001b[0m\n",
      "\u001b[0;31mKeyError\u001b[0m: 'name'"
     ]
    }
   ],
   "source": [
    "for i in range(10):\n",
    "    print(random_lake_sentence(lakes, sentences))\n",
    "    \n",
    "# key error: name!\n",
    "# we don't have a sentence template for name"
   ]
  },
  {
   "cell_type": "code",
   "execution_count": 22,
   "metadata": {
    "collapsed": true
   },
   "outputs": [],
   "source": [
    "def random_lake_sentence(lakes, sentences):\n",
    "    \n",
    "    lake = random.choice(lakes)\n",
    "    \n",
    "    possible_keys = [k for k in lake.keys() if k != 'name']\n",
    "    col = random.choice(possible_keys)\n",
    "\n",
    "    sentence_template = sentences[col]\n",
    "    output = sentence_template.format(lake['name'], lake[col])\n",
    "    return output"
   ]
  },
  {
   "cell_type": "code",
   "execution_count": 23,
   "metadata": {
    "collapsed": false
   },
   "outputs": [
    {
     "name": "stdout",
     "output_type": "stream",
     "text": [
      "The depth of Lake Rukwa is 5 meters.\n",
      "The type of Etoscha Salt Pan is salt.\n",
      "The type of Lake Toba is caldera.\n",
      "The area of Nam Co is 1855 square kilometers.\n",
      "The depth of Lake Turkana is 73 meters.\n",
      "Laguna Mar Chiquita empties into a river named None.\n",
      "Lago di Bracciano empties into a river named None.\n",
      "The elevation of Lago de Sobradinho is None meters.\n",
      "The depth of Lago di Bolsena is 151 meters.\n",
      "Chiemsee empties into a river named Alz.\n",
      "The type of Lake Winnipeg is None.\n",
      "Ozero Pskovskoje empties into a river named Narva.\n",
      "The depth of Lago Trasimeno is 7 meters.\n",
      "The depth of Lago di Bracciano is 160 meters.\n",
      "The type of Kallavesi is None.\n",
      "The depth of Lake Ohrid is 289 meters.\n",
      "The type of Lake Tahoe is None.\n",
      "The area of Vaettern is 1900 square kilometers.\n",
      "The area of Lake Maracaibo is 13000 square kilometers.\n",
      "The area of Brienzersee is 29.8 square kilometers.\n",
      "The elevation of Kremenchuk Reservoir is 44 meters.\n",
      "The depth of Lac Assal is None meters.\n",
      "The type of Lake Maracaibo is None.\n",
      "The type of Lago Junin is None.\n",
      "The elevation of Lake Victoria is 1134 meters.\n",
      "The type of Brienzersee is None.\n",
      "The elevation of Dead Sea is -422 meters.\n",
      "The depth of Great Salt Lake is 10 meters.\n",
      "The depth of Lake Nyos is 208 meters.\n",
      "The elevation of Pyramid Lake is 1155 meters.\n",
      "The area of Ozero Tschany is 2500 square kilometers.\n",
      "The area of Maelaren is 1140 square kilometers.\n",
      "The type of Starnberger See is None.\n",
      "The type of Lake Managua is None.\n",
      "The elevation of Ozero Pskovskoje is 30 meters.\n",
      "The depth of Saimaa is 85 meters.\n",
      "The area of Lake Huron is 59600 square kilometers.\n",
      "The type of Lake Mai Ndombe is None.\n",
      "The elevation of Lop Nor is 780 meters.\n",
      "The depth of Paeijaenne is 95 meters.\n",
      "The area of Ozero Balchash is 18428 square kilometers.\n",
      "The area of Saimaa is 4370 square kilometers.\n",
      "The depth of Neusiedlersee is 1.8 meters.\n",
      "Ozero Taimyr empties into a river named None.\n",
      "The area of Ammersee is 46.6 square kilometers.\n",
      "The elevation of Lake Tanganjika is 782 meters.\n",
      "The type of Laguna de Bay is None.\n",
      "The depth of Lake Maracaibo is 50 meters.\n",
      "The depth of Siljan is 134 meters.\n",
      "The elevation of Crater Lake is 1883 meters.\n",
      "The depth of Lago di Bolsena is 151 meters.\n",
      "The depth of Qinghai Lake is None meters.\n",
      "The depth of Qinghai Lake is None meters.\n",
      "Lake Victoria empties into a river named Victoria Nile.\n",
      "The depth of Crater Lake is 594 meters.\n",
      "The type of Lake Tahoe is None.\n",
      "The elevation of Ozero Tschany is 10 meters.\n",
      "The elevation of Starnberger See is 584 meters.\n",
      "The type of Lake Rukwa is salt.\n",
      "The area of Kakhovka Reservoir is 2155 square kilometers.\n",
      "The area of Segara Anak is 11.3 square kilometers.\n",
      "The area of Lago di Bolsena is 114 square kilometers.\n",
      "Lake Turkana empties into a river named None.\n",
      "The type of Kremenchuk Reservoir is dam.\n",
      "The depth of Lake Irazu is None meters.\n",
      "The elevation of Lake Abaya is 619 meters.\n",
      "The elevation of Lake Manitou is None meters.\n",
      "The depth of Kremenchuk Reservoir is 28 meters.\n",
      "Lake Managua empties into a river named Rio San Juan.\n",
      "The area of Kallavesi is 472 square kilometers.\n",
      "The area of Lake Mweru is 5120 square kilometers.\n",
      "The area of Kiev Reservoir is 922 square kilometers.\n",
      "The depth of Lake Kivu is 450 meters.\n",
      "The elevation of Daryacheh ye Namak is 790 meters.\n",
      "The elevation of Lago de Chapala is 1520 meters.\n",
      "The type of Great Bear Lake is None.\n",
      "The depth of Lake Skutari is 44 meters.\n",
      "The area of Lake Bosumtwi is 49 square kilometers.\n",
      "Lake Mai Ndombe empties into a river named Fimi.\n",
      "The depth of Lake Kivu is 450 meters.\n",
      "The elevation of Lake Irazu is 3200 meters.\n",
      "The elevation of Chiemsee is 518 meters.\n",
      "Kiev Reservoir empties into a river named Dnepr.\n",
      "The elevation of Starnberger See is 584 meters.\n",
      "The area of Oulujaervi is 928 square kilometers.\n",
      "The type of Saimaa is None.\n",
      "Lake Abaya empties into a river named None.\n",
      "The elevation of Ozero Balchash is 342 meters.\n",
      "The type of Lake Ohrid is None.\n",
      "The type of Starnberger See is None.\n",
      "The elevation of Lake Managua is 39 meters.\n",
      "Lake Titicaca empties into a river named Rio Desaguadero.\n",
      "The type of Ozero Ladoga is None.\n",
      "Lake Mead empties into a river named Colorado.\n",
      "Lake Erie empties into a river named Niagara River.\n",
      "The area of Lake Nipigon is 4848 square kilometers.\n",
      "Lake Prespa empties into a river named None.\n",
      "Segara Anak empties into a river named Asahan.\n",
      "The elevation of Maelaren is 0.7 meters.\n",
      "The depth of Inari is 92 meters.\n"
     ]
    }
   ],
   "source": [
    "for i in range(100):\n",
    "    print(random_lake_sentence(lakes, sentences))"
   ]
  },
  {
   "cell_type": "code",
   "execution_count": 24,
   "metadata": {
    "collapsed": true
   },
   "outputs": [],
   "source": [
    "def random_lake_sentence(lakes, sentences):\n",
    "    \n",
    "    lake = random.choice(lakes)\n",
    "    \n",
    "    possible_keys = [k for k in lake.keys() if k != 'name' and lake[k] is not None]\n",
    "    col = random.choice(possible_keys)\n",
    "\n",
    "    sentence_template = sentences[col]\n",
    "    output = sentence_template.format(lake['name'], lake[col])\n",
    "    return output"
   ]
  },
  {
   "cell_type": "code",
   "execution_count": 25,
   "metadata": {
    "collapsed": false
   },
   "outputs": [
    {
     "name": "stdout",
     "output_type": "stream",
     "text": [
      "The elevation of Lake Turkana is 375 meters.\n",
      "The type of Kiev Reservoir is dam.\n",
      "The depth of Koli Sarez is 500 meters.\n",
      "The depth of Laguna de Bay is 20 meters.\n",
      "The elevation of Ozero Tschany is 10 meters.\n",
      "The area of Lake Burley Griffin is 6.64 square kilometers.\n",
      "The elevation of Lago Trasimeno is 259 meters.\n",
      "The elevation of Lake Bosumtwi is 107 meters.\n",
      "The area of Lake Burley Griffin is 6.64 square kilometers.\n",
      "The elevation of Lake Turkana is 375 meters.\n",
      "The depth of Zurichsee is 136 meters.\n",
      "The elevation of Ozero Tschany is 10 meters.\n",
      "The area of Lago di Como is 146 square kilometers.\n",
      "The depth of Malebo Pool is 10 meters.\n",
      "Lake Winnipesaukee empties into a river named Merrimack River.\n",
      "The area of Lake Champlain is 1130 square kilometers.\n",
      "The area of Lake Kioga is 1720 square kilometers.\n",
      "The depth of Lake Huron is 229 meters.\n",
      "The depth of Thunersee is 217 meters.\n",
      "The area of Ozero Onega is 9616 square kilometers.\n",
      "The depth of Lake Sakakawea is 55 meters.\n",
      "The area of Lake Bangweulu is 10000 square kilometers.\n",
      "Lake Jindabyne empties into a river named Snowy River.\n",
      "The type of Lake Urmia is salt.\n",
      "The depth of Lake Sakakawea is 55 meters.\n",
      "The elevation of Ozero Baikal is 455 meters.\n",
      "The type of Lake Manicouagan is impact.\n",
      "The area of Koli Sarez is 80 square kilometers.\n",
      "The type of Lake Cabora-Bassa is dam.\n",
      "The depth of Lake Bangweulu is 4 meters.\n",
      "The area of Lake Sakakawea is 1578 square kilometers.\n",
      "Lake Nicaragua empties into a river named Rio San Juan.\n",
      "The area of Arresoe is 40.2 square kilometers.\n",
      "The area of Ozero Baikal is 31492 square kilometers.\n",
      "The depth of Lake Maracaibo is 50 meters.\n",
      "The depth of Arresoe is 5.6 meters.\n",
      "The depth of Kiev Reservoir is 8 meters.\n",
      "Lake Managua empties into a river named Rio San Juan.\n",
      "The area of Dead Sea is 41650 square kilometers.\n",
      "The depth of Lop Nor is 0 meters.\n",
      "The area of Lago di Bracciano is 57 square kilometers.\n",
      "Oulujaervi empties into a river named Oulujoki.\n",
      "The depth of Lake Tanganjika is 1470 meters.\n",
      "The elevation of Laguna Mar Chiquita is 71 meters.\n",
      "The area of Lake Maracaibo is 13000 square kilometers.\n",
      "The depth of Ozero Aral is 35 meters.\n",
      "Inari empties into a river named Paatsjoki.\n",
      "The elevation of Oulujaervi is 123 meters.\n",
      "The elevation of Mjoesa-See is 123 meters.\n",
      "The elevation of Great Bear Lake is 156 meters.\n",
      "The elevation of Lake Jindabyne is 915 meters.\n",
      "The depth of Lake Van is 457 meters.\n",
      "The depth of Bodensee is 254 meters.\n",
      "Barrage de Mbakaou empties into a river named Sanaga.\n",
      "Chickamauga Lake empties into a river named Tennessee.\n",
      "The depth of Bodensee is 254 meters.\n",
      "Lake Winnipeg empties into a river named Nelson River.\n",
      "The area of Lake Superior is 82103 square kilometers.\n",
      "Vaenern empties into a river named Goetaaelv.\n",
      "The elevation of Kuybyshev Reservoir is 53 meters.\n",
      "The depth of Lake Sese Seko/Albertsee is 48 meters.\n",
      "The area of Lake Tanganjika is 32893 square kilometers.\n",
      "The area of Lake Kainji is 1243 square kilometers.\n",
      "The elevation of Storuman is 419 meters.\n",
      "The elevation of Lake Nipigon is 260 meters.\n",
      "The depth of Lago di Bracciano is 160 meters.\n",
      "The elevation of Loch Ness is 16 meters.\n",
      "The area of Lake Mai Ndombe is 8200 square kilometers.\n",
      "The depth of Lago di Como is 425 meters.\n",
      "Paeijaenne empties into a river named Kymijoki.\n",
      "The depth of Lake Mai Ndombe is 10 meters.\n",
      "The area of Arresoe is 40.2 square kilometers.\n",
      "Lake Hume empties into a river named Murray River.\n",
      "The depth of Lake Van is 457 meters.\n",
      "The depth of Lake Maracaibo is 50 meters.\n",
      "The type of Licancabur Crater Lake is crater.\n",
      "The depth of Lake Superior is 405 meters.\n",
      "Malebo Pool empties into a river named Zaire.\n",
      "The area of Lake Manitou is 104 square kilometers.\n",
      "Bodensee empties into a river named Rhein.\n",
      "The elevation of Ozero Baikal is 455 meters.\n",
      "Lake Sakakawea empties into a river named Missouri.\n",
      "Ozero Baikal empties into a river named Angara.\n",
      "The type of Lago di Bolsena is caldera.\n",
      "The elevation of Lake Tanganjika is 782 meters.\n",
      "Lake Eucumbene empties into a river named Eucumbene River.\n",
      "The elevation of Qinghai Lake is 3195 meters.\n",
      "The area of Kuybyshev Reservoir is 6450 square kilometers.\n",
      "The type of Lake Eyasi is salt.\n",
      "The depth of Kuybyshev Reservoir is 41 meters.\n",
      "The elevation of Lake Champlain is 30 meters.\n",
      "The elevation of Lago di Bolsena is 335 meters.\n",
      "The type of Ozero Aral is salt.\n",
      "The elevation of Lake Toba is 905 meters.\n",
      "Lake Erie empties into a river named Niagara River.\n",
      "The area of Ozero Chanka is 4400 square kilometers.\n",
      "The area of Lake Hume is 202 square kilometers.\n",
      "The area of Lake Sese Seko/Albertsee is 5347 square kilometers.\n",
      "The area of Brienzersee is 29.8 square kilometers.\n",
      "The elevation of Maelaren is 0.7 meters.\n"
     ]
    }
   ],
   "source": [
    "for i in range(100):\n",
    "    print(random_lake_sentence(lakes, sentences))"
   ]
  },
  {
   "cell_type": "code",
   "execution_count": 28,
   "metadata": {
    "collapsed": false
   },
   "outputs": [
    {
     "data": {
      "text/plain": [
       "{'contributors': None,\n",
       " 'coordinates': None,\n",
       " 'created_at': 'Thu Jul 07 15:35:39 +0000 2016',\n",
       " 'entities': {'hashtags': [], 'symbols': [], 'urls': [], 'user_mentions': []},\n",
       " 'favorite_count': 0,\n",
       " 'favorited': False,\n",
       " 'geo': None,\n",
       " 'id': 751077226561634304,\n",
       " 'id_str': '751077226561634304',\n",
       " 'in_reply_to_screen_name': None,\n",
       " 'in_reply_to_status_id': None,\n",
       " 'in_reply_to_status_id_str': None,\n",
       " 'in_reply_to_user_id': None,\n",
       " 'in_reply_to_user_id_str': None,\n",
       " 'is_quote_status': False,\n",
       " 'lang': 'en',\n",
       " 'place': None,\n",
       " 'retweet_count': 0,\n",
       " 'retweeted': False,\n",
       " 'source': '<a href=\"http://www.columbia.edu/\" rel=\"nofollow\">ledebot</a>',\n",
       " 'text': 'The depth of Lake Okeechobee is 4 meters. Now you know.',\n",
       " 'truncated': False,\n",
       " 'user': {'contributors_enabled': False,\n",
       "  'created_at': 'Thu Jul 07 14:34:29 +0000 2016',\n",
       "  'default_profile': True,\n",
       "  'default_profile_image': True,\n",
       "  'description': '',\n",
       "  'entities': {'description': {'urls': []}},\n",
       "  'favourites_count': 0,\n",
       "  'follow_request_sent': False,\n",
       "  'followers_count': 0,\n",
       "  'following': False,\n",
       "  'friends_count': 0,\n",
       "  'geo_enabled': False,\n",
       "  'has_extended_profile': False,\n",
       "  'id': 751061832425668608,\n",
       "  'id_str': '751061832425668608',\n",
       "  'is_translation_enabled': False,\n",
       "  'is_translator': False,\n",
       "  'lang': 'en',\n",
       "  'listed_count': 0,\n",
       "  'location': '',\n",
       "  'name': 'ledetest',\n",
       "  'notifications': False,\n",
       "  'profile_background_color': 'F5F8FA',\n",
       "  'profile_background_image_url': None,\n",
       "  'profile_background_image_url_https': None,\n",
       "  'profile_background_tile': False,\n",
       "  'profile_image_url': 'http://abs.twimg.com/sticky/default_profile_images/default_profile_5_normal.png',\n",
       "  'profile_image_url_https': 'https://abs.twimg.com/sticky/default_profile_images/default_profile_5_normal.png',\n",
       "  'profile_link_color': '2B7BB9',\n",
       "  'profile_sidebar_border_color': 'C0DEED',\n",
       "  'profile_sidebar_fill_color': 'DDEEF6',\n",
       "  'profile_text_color': '333333',\n",
       "  'profile_use_background_image': True,\n",
       "  'protected': False,\n",
       "  'screen_name': 'ledetest',\n",
       "  'statuses_count': 3,\n",
       "  'time_zone': None,\n",
       "  'url': None,\n",
       "  'utc_offset': None,\n",
       "  'verified': False}}"
      ]
     },
     "execution_count": 28,
     "metadata": {},
     "output_type": "execute_result"
    }
   ],
   "source": [
    "flare = ['Wow!', \"Cool, huh?\", 'Now you know.', 'WHAAAAT', 'Neat-o.']\n",
    "\n",
    "output = random_lake_sentence(lakes, sentences) + \" \" + random.choice(flare)\n",
    "twitter.update_status(status=output)"
   ]
  },
  {
   "cell_type": "markdown",
   "metadata": {},
   "source": [
    "In your standalone python script, remember that you'd want to copy over your bot's access token and secret (rather than your own). "
   ]
  },
  {
   "cell_type": "code",
   "execution_count": null,
   "metadata": {
    "collapsed": true
   },
   "outputs": [],
   "source": []
  }
 ],
 "metadata": {
  "kernelspec": {
   "display_name": "Python 3",
   "language": "python",
   "name": "python3"
  },
  "language_info": {
   "codemirror_mode": {
    "name": "ipython",
    "version": 3
   },
   "file_extension": ".py",
   "mimetype": "text/x-python",
   "name": "python",
   "nbconvert_exporter": "python",
   "pygments_lexer": "ipython3",
   "version": "3.5.0"
  }
 },
 "nbformat": 4,
 "nbformat_minor": 0
}
